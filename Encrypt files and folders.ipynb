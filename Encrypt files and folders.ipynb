{
 "cells": [
  {
   "cell_type": "code",
   "execution_count": 9,
   "id": "ca503f25",
   "metadata": {},
   "outputs": [],
   "source": [
    "# import required module\n",
    "from cryptography.fernet import Fernet\n"
   ]
  },
  {
   "cell_type": "code",
   "execution_count": 10,
   "id": "eb8236bf",
   "metadata": {},
   "outputs": [],
   "source": [
    "# key generation\n",
    "key = Fernet.generate_key()\n",
    "\n",
    "# string the key in a file\n",
    "with open('filekey.key', 'wb') as filekey:\n",
    "    filekey.write(key)\n"
   ]
  },
  {
   "cell_type": "code",
   "execution_count": 14,
   "id": "dceb4d52",
   "metadata": {},
   "outputs": [],
   "source": [
    "# opening the key\n",
    "with open('filekey.key', 'rb') as filekey:\n",
    "\tkey = filekey.read()\n",
    "\n",
    "# using the generated key\n",
    "fernet = Fernet(key)\n",
    "\n",
    "# opening the original file to encrypt\n",
    "with open('sample.csv', 'rb') as file:\n",
    "\toriginal = file.read()\n",
    "\t\n",
    "# encrypting the file\n",
    "encrypted = fernet.encrypt(original)\n",
    "\n",
    "# opening the file in write mode and\n",
    "# writing the encrypted data\n",
    "with open('sample.csv', 'wb') as encrypted_file:\n",
    "\tencrypted_file.write(encrypted)\n"
   ]
  },
  {
   "cell_type": "code",
   "execution_count": 15,
   "id": "a0b47342",
   "metadata": {},
   "outputs": [],
   "source": [
    "# using the key\n",
    "fernet = Fernet(key)\n",
    "\n",
    "# opening the encrypted file\n",
    "with open('sample.csv', 'rb') as enc_file:\n",
    "\tencrypted = enc_file.read()\n",
    "\n",
    "# decrypting the file\n",
    "decrypted = fernet.decrypt(encrypted)\n",
    "\n",
    "# opening the file in write mode and\n",
    "# writing the decrypted data\n",
    "with open('sample.csv', 'wb') as dec_file:\n",
    "\tdec_file.write(decrypted)\n"
   ]
  },
  {
   "cell_type": "code",
   "execution_count": null,
   "id": "029b2356",
   "metadata": {},
   "outputs": [],
   "source": []
  }
 ],
 "metadata": {
  "kernelspec": {
   "display_name": "Python 3 (ipykernel)",
   "language": "python",
   "name": "python3"
  },
  "language_info": {
   "codemirror_mode": {
    "name": "ipython",
    "version": 3
   },
   "file_extension": ".py",
   "mimetype": "text/x-python",
   "name": "python",
   "nbconvert_exporter": "python",
   "pygments_lexer": "ipython3",
   "version": "3.9.12"
  }
 },
 "nbformat": 4,
 "nbformat_minor": 5
}
